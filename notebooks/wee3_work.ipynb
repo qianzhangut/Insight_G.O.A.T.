{
 "cells": [
  {
   "cell_type": "markdown",
   "metadata": {},
   "source": [
    "# Data processing"
   ]
  },
  {
   "cell_type": "code",
   "execution_count": 9,
   "metadata": {},
   "outputs": [],
   "source": [
    "import requests\n",
    "from bs4 import BeautifulSoup\n",
    "import re\n",
    "import pandas as pd\n",
    "import numpy as np\n",
    "import matplotlib.pyplot as plt\n",
    "import datetime\n",
    "import time\n",
    "import seaborn as sns\n",
    "from sklearn.preprocessing import StandardScaler\n",
    "from sklearn.preprocessing import MinMaxScaler\n",
    "from nltk import word_tokenize"
   ]
  },
  {
   "cell_type": "code",
   "execution_count": null,
   "metadata": {},
   "outputs": [],
   "source": []
  },
  {
   "cell_type": "code",
   "execution_count": 10,
   "metadata": {},
   "outputs": [],
   "source": [
    "df = pd.read_csv('final.csv')"
   ]
  },
  {
   "cell_type": "code",
   "execution_count": 11,
   "metadata": {},
   "outputs": [],
   "source": [
    "df = df.drop(columns=['Unnamed: 0', 'Unnamed: 0.1', 'joint_tweets','fullname','id','lists'])\n",
    "df = df.drop(df.index[[336]])"
   ]
  },
  {
   "cell_type": "code",
   "execution_count": null,
   "metadata": {},
   "outputs": [],
   "source": []
  },
  {
   "cell_type": "code",
   "execution_count": 12,
   "metadata": {},
   "outputs": [],
   "source": [
    "###remove data that has null values\n",
    "data = df[df['twitter'].notnull()]"
   ]
  },
  {
   "cell_type": "code",
   "execution_count": 13,
   "metadata": {},
   "outputs": [],
   "source": [
    "data_train = data[data['followers'].notnull()]\n",
    "data_train = data_train[data_train['market_value'].notna()]\n",
    "\n",
    "data_train.index = range(len(data_train))\n"
   ]
  },
  {
   "cell_type": "code",
   "execution_count": 14,
   "metadata": {},
   "outputs": [],
   "source": [
    "###process height feature\n",
    "data_train['height_ver2'] = data_train['height'].apply(lambda x: str(x).replace(',', '').replace('m', ''))\n"
   ]
  },
  {
   "cell_type": "code",
   "execution_count": 15,
   "metadata": {},
   "outputs": [],
   "source": [
    "###contract start date \n",
    "data_train['join_date_ver1'] = data_train['join_date'].apply(lambda x: x if '20' in x else 0)\n",
    "\n",
    "data_train['join_date_ver2'] = data_train['join_date_ver1'].apply(lambda x: (datetime.datetime.strptime(\"Dec31,2019\", \"%b%d,%Y\").date() - datetime.datetime.strptime(x, \"%b%d,%Y\").date()).days/365 if x!=0  else 0)"
   ]
  },
  {
   "cell_type": "code",
   "execution_count": 16,
   "metadata": {},
   "outputs": [],
   "source": [
    "###contract end date\n",
    "data_train['exp_date_ver1'] = data_train['exp_date'].apply(lambda x: x if '20' in x else 0)"
   ]
  },
  {
   "cell_type": "code",
   "execution_count": 17,
   "metadata": {},
   "outputs": [],
   "source": [
    "def date_change(x):\n",
    "    try:\n",
    "        ndays = (datetime.datetime.strptime(x, \"%d.%m.%Y\").date() - datetime.datetime.strptime(\"Dec31,2019\", \"%b%d,%Y\").date()).days\n",
    "    except:\n",
    "        ndays = 0\n",
    "    return ndays/365\n",
    "        "
   ]
  },
  {
   "cell_type": "code",
   "execution_count": 18,
   "metadata": {},
   "outputs": [],
   "source": [
    "data_train['exp_date_ver2'] = data_train['exp_date_ver1'].apply(date_change)"
   ]
  },
  {
   "cell_type": "code",
   "execution_count": null,
   "metadata": {},
   "outputs": [],
   "source": []
  },
  {
   "cell_type": "code",
   "execution_count": 19,
   "metadata": {},
   "outputs": [],
   "source": [
    "###data joined twitter feature\n",
    "data_train['date_joined_twitter_ver1'] = data_train['date_joined'].apply(lambda x: str(x).replace('.', '').replace('-', '').replace('AM', '').replace('PM', '').replace(' ', ''))"
   ]
  },
  {
   "cell_type": "code",
   "execution_count": 20,
   "metadata": {
    "scrolled": true
   },
   "outputs": [],
   "source": [
    "def date_change_twitter(x):\n",
    "    try:\n",
    "        ndays = (datetime.datetime.strptime(\"Dec31,2019\", \"%b%d,%Y\").date() - datetime.datetime.strptime(x, \"%I:%M%d%b%Y\").date()).days\n",
    "    except:\n",
    "        ndays = 0\n",
    "    return ndays/365\n",
    "data_train['date_joined_twitter_ver2'] = data_train['date_joined_twitter_ver1'].apply(date_change_twitter)"
   ]
  },
  {
   "cell_type": "code",
   "execution_count": 21,
   "metadata": {},
   "outputs": [],
   "source": [
    "###market value, make units consistent\n",
    "def value_trans(value):\n",
    "    try:\n",
    "        if 'm' in value:\n",
    "            a1 = value.replace('$','').replace('m', '') \n",
    "        elif 'k' in value:\n",
    "            a1 = float(value.replace('$','').replace('k', ''))/1000\n",
    "    except:\n",
    "        a1 = 0\n",
    "    return float(a1)\n",
    "\n",
    "data_train['market_value_ver2'] = data_train['market_value'].apply(value_trans)"
   ]
  },
  {
   "cell_type": "code",
   "execution_count": 22,
   "metadata": {},
   "outputs": [],
   "source": [
    "###NUmber of Tropy\n",
    "\n",
    "data_train['trophy_ver2'] = data_train['trophy'].apply(lambda x: 0 if np.isnan(float(x)) else x)"
   ]
  },
  {
   "cell_type": "code",
   "execution_count": 23,
   "metadata": {},
   "outputs": [],
   "source": [
    "###identify the continent for each player\n",
    "\n",
    "import pycountry\n",
    "import pycountry_convert as pc\n",
    "def country_to_continent(country_name):\n",
    "    try:\n",
    "        if country_name == 'DR Congo':\n",
    "            country_continent_name = 'Africa'\n",
    "        else:\n",
    "            fuzzy = pycountry.countries.search_fuzzy(country_name)\n",
    "            country_alpha2 = pc.country_name_to_country_alpha2(fuzzy[0].name)\n",
    "            country_continent_code = pc.country_alpha2_to_continent_code(country_alpha2)\n",
    "            country_continent_name = pc.convert_continent_code_to_continent_name(country_continent_code)\n",
    "    except:\n",
    "        country_continent_name = 'Europe'\n",
    "    return country_continent_name"
   ]
  },
  {
   "cell_type": "code",
   "execution_count": 24,
   "metadata": {},
   "outputs": [],
   "source": [
    "data_train['nationality_ver2'] = data_train['nationality'].apply(country_to_continent)\n"
   ]
  },
  {
   "cell_type": "code",
   "execution_count": 25,
   "metadata": {},
   "outputs": [],
   "source": [
    "###player agent\n",
    "\n",
    "data_train['Player_agent_ver2'] = data_train['Player_agent'].apply(lambda x : 0 if (x =='Relatives')|(x =='noagent ')|(x =='notclarified') else 1)\n"
   ]
  },
  {
   "cell_type": "code",
   "execution_count": null,
   "metadata": {},
   "outputs": [],
   "source": []
  },
  {
   "cell_type": "code",
   "execution_count": 26,
   "metadata": {},
   "outputs": [],
   "source": [
    "###sent score\n",
    "data_train['sent_score'] = data_train['sent_mean']*data_train['sent_length']"
   ]
  },
  {
   "cell_type": "code",
   "execution_count": 28,
   "metadata": {
    "scrolled": true
   },
   "outputs": [
    {
     "name": "stderr",
     "output_type": "stream",
     "text": [
      "E:\\Program Files\\Anaconda3\\lib\\site-packages\\sklearn\\utils\\deprecation.py:66: DeprecationWarning: Class Imputer is deprecated; Imputer was deprecated in version 0.20 and will be removed in 0.22. Import impute.SimpleImputer from sklearn instead.\n",
      "  warnings.warn(msg, category=DeprecationWarning)\n"
     ]
    }
   ],
   "source": [
    "###impute missing values\n",
    "from sklearn.preprocessing import Imputer\n",
    "import numpy as np\n",
    " \n",
    "imputer = Imputer(missing_values='NaN', strategy=\"mean\", axis=0)\n",
    " \n",
    "\n",
    "duty_data = data_train[['height_ver2', 'join_date_ver2', 'exp_date_ver2', 'sent_score', 'sent_max', 'sent_min', 'best', 'goal', 'good', 'great', 'love']] \n",
    "\n",
    "imputed_data= imputer.fit_transform(duty_data)\n",
    " \n",
    "imp =imputer.fit_transform(duty_data)"
   ]
  },
  {
   "cell_type": "code",
   "execution_count": 29,
   "metadata": {},
   "outputs": [],
   "source": [
    "imp_data = pd.DataFrame(imp, columns=['height_ver2', 'join_date_ver2', 'exp_date_ver2', 'sent_score', 'sent_max', 'sent_min', 'best', 'goal', 'good', 'great', 'love'])"
   ]
  },
  {
   "cell_type": "code",
   "execution_count": 30,
   "metadata": {},
   "outputs": [],
   "source": [
    "data_train['goals_ver2'] = data_train['goals'].apply(lambda x : x if x!='-' else 0)\n",
    "data_train['Assists_ver2'] = data_train['Assists'].apply(lambda x : x if x!='-' else 0)\n",
    "data_train['min_per_goal_ver2'] = data_train['min_per_goal'].apply(lambda x : x if x!='-' else 0)"
   ]
  },
  {
   "cell_type": "code",
   "execution_count": 31,
   "metadata": {},
   "outputs": [],
   "source": [
    "###reduce category of position\n",
    "\n",
    "def position(info):\n",
    "    if 'Forward' in info:\n",
    "        info = 'Forward'\n",
    "    elif 'Midfielder' in info:\n",
    "        info = 'Midfielder'\n",
    "    elif 'Defender' in info:\n",
    "        info = 'Defender'\n",
    "    elif 'Goalkeeper' in info:\n",
    "        info = 'Goalkeeper'\n",
    "    return info\n",
    "data_train['position_ver2'] = data_train['Position'].apply(position )"
   ]
  },
  {
   "cell_type": "code",
   "execution_count": 32,
   "metadata": {},
   "outputs": [],
   "source": [
    "###twitter data\n",
    "data_train['appearance_ver2'] = data_train['appearance'].apply(lambda x: float(0) if (x == '-')|(x == 'NaN') else float(x))\n",
    "data_train['minutes_ver2'] = data_train['minutes'].apply(lambda x: float(0) if (x == '-')|(x == 'NaN') else float(x))\n",
    "data_train['num_tweets_ver2'] = data_train['num_tweets'].apply(lambda x: float(0) if (x == '-')|(x == 'NaN') else float(x))\n",
    "data_train['following_ver2'] = data_train['following'].apply(lambda x: float(0) if (x == '-')|(x == 'NaN') else float(x))\n",
    "data_train['followers_ver2'] = data_train['followers'].apply(lambda x: float(0) if (x == '-')|(x == 'NaN') else float(x))\n",
    "data_train['likes_ver2'] = data_train['likes'].apply(lambda x: float(0) if (x == '-')|(x == 'NaN') else float(x))\n",
    "data_train['date_joined_twitter_ver3'] = data_train['date_joined_twitter_ver2'].apply(lambda x: float(0) if (x == '-')|(x == 'NaN') else float(x))"
   ]
  },
  {
   "cell_type": "code",
   "execution_count": 35,
   "metadata": {},
   "outputs": [],
   "source": [
    "###left or right foot\n",
    "data_train['Foot_ver2'] = data_train['Foot'].apply(lambda x : x if (x == 'left')|(x == 'right') else 'both')"
   ]
  },
  {
   "cell_type": "code",
   "execution_count": 36,
   "metadata": {},
   "outputs": [],
   "source": [
    "###adidas or nike\n",
    "data_train['outfitter_ver2'] = data_train['outfitter'].apply(lambda x : x if (x == 'Nike')|(x == 'adidas') else 'other')"
   ]
  },
  {
   "cell_type": "code",
   "execution_count": 37,
   "metadata": {},
   "outputs": [],
   "source": [
    "dummies_foot = pd.get_dummies(data_train['Foot_ver2'], prefix= 'foot')\n",
    "dummies_position = pd.get_dummies(data_train['position_ver2'], prefix= 'position')\n",
    "dummies_outfitter = pd.get_dummies(data_train['outfitter_ver2'], prefix= 'outfitter')\n",
    "dummies_nationality = pd.get_dummies(data_train['nationality_ver2'], prefix='nationality_ver2')"
   ]
  },
  {
   "cell_type": "code",
   "execution_count": 38,
   "metadata": {},
   "outputs": [],
   "source": [
    "# data_train.sent_mean.loc[data_train.sent_mean.isnull()] = 0\n",
    "# data_train.sent_max.loc[data_train.sent_max.isnull()] = 0\n",
    "# data_train.sent_min.loc[data_train.sent_min.isnull()] = 0\n",
    "# data_train.sent_length.loc[data_train.sent_length.isnull()] = 0\n",
    "# data_train.best.loc[data_train.best.isnull()] = 0\n",
    "# data_train.good.loc[data_train.good.isnull()] = 0\n",
    "# data_train.great.loc[data_train.great.isnull()] = 0\n",
    "# data_train.love.loc[data_train.love.isnull()] = 0"
   ]
  },
  {
   "cell_type": "code",
   "execution_count": null,
   "metadata": {},
   "outputs": [],
   "source": []
  },
  {
   "cell_type": "code",
   "execution_count": null,
   "metadata": {},
   "outputs": [],
   "source": []
  },
  {
   "cell_type": "code",
   "execution_count": 39,
   "metadata": {},
   "outputs": [],
   "source": [
    "###save processed data\n",
    "data_train.to_csv('data_train.csv')"
   ]
  },
  {
   "cell_type": "code",
   "execution_count": 40,
   "metadata": {
    "scrolled": true
   },
   "outputs": [
    {
     "data": {
      "text/plain": [
       "Index(['name', 'trophy', 'nationality', 'height', 'injury', 'startelfquote',\n",
       "       'minutenquote', 'twitter', 'age', 'Position', 'Foot', 'Player_agent',\n",
       "       'join_date', 'exp_date', 'exten_date', 'outfitter', 'club',\n",
       "       'appearance', 'minutes', 'goals', 'Assists', 'min_per_goal',\n",
       "       'market_value', 'sent_mean', 'sent_max', 'sent_min', 'sent_length',\n",
       "       'best', 'goal', 'good', 'great', 'love', 'user', 'date_joined',\n",
       "       'num_tweets', 'following', 'followers', 'likes', 'height_ver2',\n",
       "       'join_date_ver1', 'join_date_ver2', 'exp_date_ver1', 'exp_date_ver2',\n",
       "       'date_joined_twitter_ver1', 'date_joined_twitter_ver2',\n",
       "       'market_value_ver2', 'trophy_ver2', 'nationality_ver2',\n",
       "       'Player_agent_ver2', 'sent_score', 'goals_ver2', 'Assists_ver2',\n",
       "       'min_per_goal_ver2', 'position_ver2', 'appearance_ver2', 'minutes_ver2',\n",
       "       'num_tweets_ver2', 'following_ver2', 'followers_ver2', 'likes_ver2',\n",
       "       'date_joined_twitter_ver3', 'Foot_ver2', 'outfitter_ver2'],\n",
       "      dtype='object')"
      ]
     },
     "execution_count": 40,
     "metadata": {},
     "output_type": "execute_result"
    }
   ],
   "source": [
    "data_train.columns"
   ]
  },
  {
   "cell_type": "code",
   "execution_count": 41,
   "metadata": {},
   "outputs": [],
   "source": [
    "###pick data that dont need scale or dummies\n",
    "let1 = data_train[['age', 'startelfquote', 'minutenquote','Player_agent_ver2', 'appearance_ver2', 'minutes_ver2',\\\n",
    "       'num_tweets_ver2', 'following_ver2', 'followers_ver2', 'likes_ver2',\\\n",
    "       'date_joined_twitter_ver3', 'goals_ver2', 'Assists_ver2', 'min_per_goal_ver2', 'market_value_ver2' ]]"
   ]
  },
  {
   "cell_type": "code",
   "execution_count": 42,
   "metadata": {
    "scrolled": true
   },
   "outputs": [],
   "source": [
    "final = pd.concat([imp_data, dummies_foot,dummies_position,dummies_outfitter,dummies_nationality, let1],axis=1)"
   ]
  },
  {
   "cell_type": "code",
   "execution_count": 43,
   "metadata": {},
   "outputs": [
    {
     "data": {
      "text/plain": [
       "(1435, 42)"
      ]
     },
     "execution_count": 43,
     "metadata": {},
     "output_type": "execute_result"
    }
   ],
   "source": [
    "final.shape"
   ]
  },
  {
   "cell_type": "code",
   "execution_count": 44,
   "metadata": {},
   "outputs": [],
   "source": [
    "final.to_csv('final129_orig.csv')"
   ]
  },
  {
   "cell_type": "code",
   "execution_count": 45,
   "metadata": {},
   "outputs": [],
   "source": [
    "webapp_name = pd.DataFrame(data_train['name'], columns=['name'])"
   ]
  },
  {
   "cell_type": "code",
   "execution_count": 46,
   "metadata": {},
   "outputs": [],
   "source": [
    "webapp_name.to_csv('webapp_name.csv')"
   ]
  },
  {
   "cell_type": "code",
   "execution_count": null,
   "metadata": {},
   "outputs": [],
   "source": []
  },
  {
   "cell_type": "markdown",
   "metadata": {},
   "source": [
    "# scale data"
   ]
  },
  {
   "cell_type": "code",
   "execution_count": null,
   "metadata": {},
   "outputs": [],
   "source": []
  },
  {
   "cell_type": "code",
   "execution_count": 47,
   "metadata": {},
   "outputs": [],
   "source": [
    "ss = StandardScaler()\n",
    "mm = MinMaxScaler()"
   ]
  },
  {
   "cell_type": "code",
   "execution_count": 48,
   "metadata": {},
   "outputs": [
    {
     "data": {
      "text/plain": [
       "Index(['height_ver2', 'join_date_ver2', 'exp_date_ver2', 'sent_score',\n",
       "       'sent_max', 'sent_min', 'best', 'goal', 'good', 'great', 'love',\n",
       "       'foot_both', 'foot_left', 'foot_right', 'position_Defender',\n",
       "       'position_Forward', 'position_Goalkeeper', 'position_Midfielder',\n",
       "       'outfitter_Nike', 'outfitter_adidas', 'outfitter_other',\n",
       "       'nationality_ver2_Africa', 'nationality_ver2_Asia',\n",
       "       'nationality_ver2_Europe', 'nationality_ver2_North America',\n",
       "       'nationality_ver2_Oceania', 'nationality_ver2_South America', 'age',\n",
       "       'startelfquote', 'minutenquote', 'Player_agent_ver2', 'appearance_ver2',\n",
       "       'minutes_ver2', 'num_tweets_ver2', 'following_ver2', 'followers_ver2',\n",
       "       'likes_ver2', 'date_joined_twitter_ver3', 'goals_ver2', 'Assists_ver2',\n",
       "       'min_per_goal_ver2', 'market_value_ver2'],\n",
       "      dtype='object')"
      ]
     },
     "execution_count": 48,
     "metadata": {},
     "output_type": "execute_result"
    }
   ],
   "source": [
    "final.columns"
   ]
  },
  {
   "cell_type": "code",
   "execution_count": 49,
   "metadata": {},
   "outputs": [],
   "source": [
    "part1 = final[['best', 'goal', 'good', 'great',\n",
    "       'love', 'foot_both', 'foot_left', 'foot_right', 'position_Defender',\n",
    "       'position_Forward', 'position_Goalkeeper', 'position_Midfielder',\n",
    "       'outfitter_Nike', 'outfitter_adidas', 'outfitter_other',\n",
    "       'nationality_ver2_Africa', 'nationality_ver2_Asia',\n",
    "       'nationality_ver2_Europe', 'nationality_ver2_North America',\n",
    "       'nationality_ver2_Oceania', 'nationality_ver2_South America']]"
   ]
  },
  {
   "cell_type": "code",
   "execution_count": 50,
   "metadata": {},
   "outputs": [],
   "source": [
    "part2 = final[['height_ver2', 'join_date_ver2', 'exp_date_ver2', 'sent_score', 'sent_max', 'sent_min', 'age',\n",
    "       'startelfquote', 'minutenquote', 'Player_agent_ver2', 'appearance_ver2',\n",
    "       'minutes_ver2', 'num_tweets_ver2', 'following_ver2', 'followers_ver2',\n",
    "       'likes_ver2', 'date_joined_twitter_ver3', 'goals_ver2', 'Assists_ver2',\n",
    "       'min_per_goal_ver2', 'market_value_ver2']]"
   ]
  },
  {
   "cell_type": "code",
   "execution_count": 51,
   "metadata": {},
   "outputs": [],
   "source": [
    "part2_scaled = ss.fit_transform(part2)"
   ]
  },
  {
   "cell_type": "code",
   "execution_count": 52,
   "metadata": {},
   "outputs": [],
   "source": [
    "final_data = np.concatenate((part1.to_numpy(), part2), axis=1)"
   ]
  },
  {
   "cell_type": "markdown",
   "metadata": {},
   "source": [
    "# modeling"
   ]
  },
  {
   "cell_type": "code",
   "execution_count": null,
   "metadata": {},
   "outputs": [],
   "source": []
  },
  {
   "cell_type": "code",
   "execution_count": 78,
   "metadata": {},
   "outputs": [],
   "source": [
    "###train test split\n",
    "from sklearn.linear_model import LinearRegression\n",
    "from sklearn.model_selection import train_test_split \n",
    "\n",
    "\n",
    "train_np = final_data\n",
    "\n",
    "y = train_np[:,-1]\n",
    "\n",
    "\n",
    "X = train_np[:, :-1]\n",
    "X_train, X_test, y_train, y_test = train_test_split(X, y, test_size=0.2, random_state=0)\n",
    "\n",
    "regressor = LinearRegression()  \n",
    "regressor.fit(X_train, y_train) #training the algorithm\n",
    "\n",
    "lr_y_pred = regressor.predict(X_test)\n",
    "\n"
   ]
  },
  {
   "cell_type": "code",
   "execution_count": 79,
   "metadata": {},
   "outputs": [],
   "source": [
    "from sklearn.ensemble import RandomForestRegressor\n",
    "from sklearn.datasets import make_regression\n"
   ]
  },
  {
   "cell_type": "code",
   "execution_count": 80,
   "metadata": {},
   "outputs": [
    {
     "name": "stderr",
     "output_type": "stream",
     "text": [
      "E:\\Program Files\\Anaconda3\\lib\\site-packages\\sklearn\\ensemble\\forest.py:245: FutureWarning: The default value of n_estimators will change from 10 in version 0.20 to 100 in 0.22.\n",
      "  \"10 in version 0.20 to 100 in 0.22.\", FutureWarning)\n"
     ]
    },
    {
     "data": {
      "text/plain": [
       "RandomForestRegressor(bootstrap=True, criterion='mse', max_depth=5,\n",
       "                      max_features='auto', max_leaf_nodes=None,\n",
       "                      min_impurity_decrease=0.0, min_impurity_split=None,\n",
       "                      min_samples_leaf=1, min_samples_split=2,\n",
       "                      min_weight_fraction_leaf=0.0, n_estimators=10,\n",
       "                      n_jobs=None, oob_score=False, random_state=0, verbose=0,\n",
       "                      warm_start=False)"
      ]
     },
     "execution_count": 80,
     "metadata": {},
     "output_type": "execute_result"
    }
   ],
   "source": [
    "X_train, y_train = make_regression(n_features=18, n_informative=4, random_state=0, shuffle=False)\n",
    "regr = RandomForestRegressor(max_depth=5, random_state=0)\n",
    "regr.fit(X, y)"
   ]
  },
  {
   "cell_type": "code",
   "execution_count": 81,
   "metadata": {},
   "outputs": [
    {
     "data": {
      "text/plain": [
       "['train.joblib']"
      ]
     },
     "execution_count": 81,
     "metadata": {},
     "output_type": "execute_result"
    }
   ],
   "source": [
    "from joblib import dump, load\n",
    "dump(regr, 'train.joblib') "
   ]
  },
  {
   "cell_type": "code",
   "execution_count": null,
   "metadata": {},
   "outputs": [],
   "source": []
  },
  {
   "cell_type": "code",
   "execution_count": 82,
   "metadata": {},
   "outputs": [
    {
     "name": "stdout",
     "output_type": "stream",
     "text": [
      "Feature ranking:\n",
      "1. feature 24 (0.205487)\n",
      "2. feature 35 (0.196639)\n",
      "3. feature 23 (0.134751)\n",
      "4. feature 38 (0.130196)\n",
      "5. feature 27 (0.079270)\n",
      "6. feature 1 (0.037184)\n",
      "7. feature 22 (0.024437)\n",
      "8. feature 39 (0.024168)\n",
      "9. feature 31 (0.017907)\n",
      "10. feature 26 (0.017120)\n",
      "11. feature 14 (0.016411)\n",
      "12. feature 34 (0.015623)\n",
      "13. feature 36 (0.013491)\n",
      "14. feature 21 (0.013399)\n",
      "15. feature 3 (0.010139)\n",
      "16. feature 32 (0.009335)\n",
      "17. feature 37 (0.008759)\n",
      "18. feature 33 (0.007599)\n",
      "19. feature 28 (0.006600)\n",
      "20. feature 40 (0.006292)\n",
      "21. feature 25 (0.004421)\n",
      "22. feature 5 (0.003544)\n",
      "23. feature 2 (0.003180)\n",
      "24. feature 29 (0.002835)\n",
      "25. feature 0 (0.002681)\n",
      "26. feature 4 (0.002400)\n",
      "27. feature 8 (0.001895)\n",
      "28. feature 20 (0.001768)\n",
      "29. feature 9 (0.001407)\n",
      "30. feature 13 (0.000700)\n",
      "31. feature 6 (0.000221)\n",
      "32. feature 10 (0.000140)\n",
      "33. feature 15 (0.000000)\n",
      "34. feature 16 (0.000000)\n",
      "35. feature 12 (0.000000)\n",
      "36. feature 11 (0.000000)\n",
      "37. feature 7 (0.000000)\n",
      "38. feature 17 (0.000000)\n",
      "39. feature 18 (0.000000)\n",
      "40. feature 19 (0.000000)\n",
      "41. feature 30 (0.000000)\n"
     ]
    },
    {
     "data": {
      "image/png": "[encoded data removed]",
      "text/plain": [
       "<Figure size 432x288 with 1 Axes>"
      ]
     },
     "metadata": {
      "needs_background": "light"
     },
     "output_type": "display_data"
    }
   ],
   "source": [
    "\n",
    "importances = regr.feature_importances_\n",
    "std = np.std([tree.feature_importances_ for tree in regr.estimators_],\n",
    "             axis=0)\n",
    "indices = np.argsort(importances)[::-1]\n",
    "\n",
    "# Print the feature ranking\n",
    "print(\"Feature ranking:\")\n",
    "\n",
    "for f in range(X.shape[1]):\n",
    "    print(\"%d. feature %d (%f)\" % (f + 1, indices[f], importances[indices[f]]))\n",
    "\n",
    "# Plot the feature importances of the forest\n",
    "plt.figure()\n",
    "plt.title(\"Feature importances\")\n",
    "plt.bar(range(X.shape[1]), importances[indices],\n",
    "       color=\"r\", yerr=std[indices], align=\"center\")\n",
    "plt.xticks(range(X.shape[1]), indices)\n",
    "plt.xlim([-1, X.shape[1]])\n",
    "plt.show()"
   ]
  },
  {
   "cell_type": "code",
   "execution_count": 83,
   "metadata": {},
   "outputs": [
    {
     "data": {
      "text/plain": [
       "Index(['nationality_ver2_North America', 'followers_ver2',\n",
       "       'nationality_ver2_Europe', 'goals_ver2', 'age', 'join_date_ver2',\n",
       "       'nationality_ver2_Asia', 'Assists_ver2', 'appearance_ver2',\n",
       "       'nationality_ver2_South America', 'position_Defender', 'following_ver2',\n",
       "       'likes_ver2', 'nationality_ver2_Africa', 'sent_score', 'minutes_ver2',\n",
       "       'date_joined_twitter_ver3', 'num_tweets_ver2', 'startelfquote',\n",
       "       'min_per_goal_ver2', 'nationality_ver2_Oceania'],\n",
       "      dtype='object')"
      ]
     },
     "execution_count": 83,
     "metadata": {},
     "output_type": "execute_result"
    }
   ],
   "source": [
    "final.columns[[24,35,23,38,27,1,22,39,31,26,14,34,36,21,3,32,37,33,28,40,25]]"
   ]
  },
  {
   "cell_type": "code",
   "execution_count": null,
   "metadata": {},
   "outputs": [],
   "source": []
  },
  {
   "cell_type": "code",
   "execution_count": 84,
   "metadata": {},
   "outputs": [],
   "source": [
    "##############regression results"
   ]
  },
  {
   "cell_type": "code",
   "execution_count": 85,
   "metadata": {},
   "outputs": [],
   "source": [
    "rf_y_pred = regr.predict(X_test)\n"
   ]
  },
  {
   "cell_type": "code",
   "execution_count": 86,
   "metadata": {},
   "outputs": [
    {
     "data": {
      "image/png": "[encoded data removed]",
      "text/plain": [
       "<Figure size 432x288 with 1 Axes>"
      ]
     },
     "metadata": {
      "needs_background": "light"
     },
     "output_type": "display_data"
    }
   ],
   "source": [
    "plt.plot(y_test,  color='gray', label=\"Actual\")\n",
    "plt.plot(rf_y_pred, color='red', linewidth=2,label=\"Predicted\")\n",
    "plt.xlabel('Players',fontsize = 15)\n",
    "plt.ylabel('Value',fontsize = 15)\n",
    "plt.legend()\n",
    "plt.title('Random Forest Regression',fontsize = 15)\n",
    "plt.savefig('randomforest_results.png')\n",
    "plt.show()\n"
   ]
  },
  {
   "cell_type": "code",
   "execution_count": 87,
   "metadata": {},
   "outputs": [
    {
     "data": {
      "image/png": "[encoded data removed]",
      "text/plain": [
       "<Figure size 432x288 with 1 Axes>"
      ]
     },
     "metadata": {
      "needs_background": "light"
     },
     "output_type": "display_data"
    }
   ],
   "source": [
    "plt.plot(y_test,  color='gray', label=\"Actual\")\n",
    "plt.plot(lr_y_pred, color='red', linewidth=2,label=\"Predicted\")\n",
    "plt.xlabel('Players',fontsize = 15)\n",
    "plt.ylabel('Value',fontsize = 15)\n",
    "plt.legend()\n",
    "plt.title('Linear Regression',fontsize = 15)\n",
    "plt.savefig('Linear_results.png')\n",
    "plt.show()"
   ]
  },
  {
   "cell_type": "code",
   "execution_count": null,
   "metadata": {},
   "outputs": [],
   "source": []
  },
  {
   "cell_type": "code",
   "execution_count": 89,
   "metadata": {},
   "outputs": [],
   "source": [
    "from sklearn.metrics import r2_score\n",
    "lr_r2 = r2_score(y_test, lr_y_pred)\n",
    "rf_r2 = r2_score(y_test, rf_y_pred)"
   ]
  },
  {
   "cell_type": "code",
   "execution_count": 90,
   "metadata": {},
   "outputs": [
    {
     "data": {
      "image/png": "[encoded data removed]",
      "text/plain": [
       "<Figure size 432x288 with 1 Axes>"
      ]
     },
     "metadata": {
      "needs_background": "light"
     },
     "output_type": "display_data"
    }
   ],
   "source": [
    "#####r2_score\n",
    "\n",
    "plt.plot([0,160], [0,160], color = 'black')\n",
    "plt.scatter(rf_y_pred, y_test, color='red')\n",
    "plt.xlabel('Predicted value',fontsize = 15)\n",
    "plt.ylabel('Actual value',fontsize = 15)\n",
    "\n",
    "plt.text(0,120, r'$R^2 = {}$'.format(\"%.2f\" % rf_r2), ha='left', rotation=0, wrap=True, fontsize = 15)\n",
    "\n",
    "plt.savefig('randomforest.png')\n",
    "plt.show()"
   ]
  },
  {
   "cell_type": "code",
   "execution_count": 91,
   "metadata": {},
   "outputs": [
    {
     "data": {
      "image/png": "[encoded data removed]",
      "text/plain": [
       "<Figure size 432x288 with 1 Axes>"
      ]
     },
     "metadata": {
      "needs_background": "light"
     },
     "output_type": "display_data"
    }
   ],
   "source": [
    "plt.plot([0,100], [0,100], color = 'black')\n",
    "plt.scatter(lr_y_pred, y_test, color='red')\n",
    "plt.xlabel('Predicted value',fontsize = 15)\n",
    "plt.ylabel('Actual value',fontsize = 15)\n",
    "\n",
    "plt.text(-10,100, r'$R^2 = {}$'.format(\"%.2f\" % lr_r2), ha='left', rotation=0, wrap=True, fontsize = 15)\n",
    "\n",
    "plt.savefig('linear.png')\n",
    "plt.show()"
   ]
  },
  {
   "cell_type": "code",
   "execution_count": null,
   "metadata": {},
   "outputs": [],
   "source": []
  },
  {
   "cell_type": "code",
   "execution_count": null,
   "metadata": {},
   "outputs": [],
   "source": []
  },
  {
   "cell_type": "code",
   "execution_count": null,
   "metadata": {},
   "outputs": [],
   "source": []
  }
 ],
 "metadata": {
  "kernelspec": {
   "display_name": "Python 3",
   "language": "python",
   "name": "python3"
  },
  "language_info": {
   "codemirror_mode": {
    "name": "ipython",
    "version": 3
   },
   "file_extension": ".py",
   "mimetype": "text/x-python",
   "name": "python",
   "nbconvert_exporter": "python",
   "pygments_lexer": "ipython3",
   "version": "3.7.3"
  }
 },
 "nbformat": 4,
 "nbformat_minor": 2
}
