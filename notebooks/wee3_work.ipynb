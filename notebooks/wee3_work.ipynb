{
 "cells": [
  {
   "cell_type": "markdown",
   "metadata": {},
   "source": [
    "# Data processing"
   ]
  },
  {
   "cell_type": "code",
   "execution_count": 1,
   "metadata": {},
   "outputs": [],
   "source": [
    "import requests\n",
    "from bs4 import BeautifulSoup\n",
    "import re\n",
    "import pandas as pd\n",
    "import numpy as np\n",
    "import matplotlib.pyplot as plt\n",
    "import datetime\n",
    "import time\n",
    "import seaborn as sns\n",
    "from sklearn.preprocessing import StandardScaler\n",
    "from sklearn.preprocessing import MinMaxScaler\n",
    "\n",
    "import nltk"
   ]
  },
  {
   "cell_type": "code",
   "execution_count": null,
   "metadata": {},
   "outputs": [],
   "source": [
    "\n"
   ]
  },
  {
   "cell_type": "code",
   "execution_count": 2,
   "metadata": {},
   "outputs": [],
   "source": [
    "\n",
    "df = pd.read_csv('final.csv')"
   ]
  },
  {
   "cell_type": "code",
   "execution_count": null,
   "metadata": {},
   "outputs": [],
   "source": []
  },
  {
   "cell_type": "code",
   "execution_count": 3,
   "metadata": {},
   "outputs": [],
   "source": [
    "df = df.drop(columns=['Unnamed: 0', 'Unnamed: 0.1', 'joint_tweets','fullname','id','lists'])\n",
    "df = df.drop(df.index[[336]])####drop row"
   ]
  },
  {
   "cell_type": "code",
   "execution_count": 4,
   "metadata": {},
   "outputs": [],
   "source": [
    "###remove data that has null values\n",
    "data = df[df['twitter'].notnull()]"
   ]
  },
  {
   "cell_type": "code",
   "execution_count": 5,
   "metadata": {},
   "outputs": [],
   "source": [
    "data_train = data[data['followers'].notnull()]\n",
    "data_train = data_train[data_train['market_value'].notna()]\n",
    "\n",
    "data_train.index = range(len(data_train))\n"
   ]
  },
  {
   "cell_type": "code",
   "execution_count": 6,
   "metadata": {},
   "outputs": [],
   "source": [
    "###process height feature\n",
    "data_train['height_ver2'] = data_train['height'].apply(lambda x: str(x).replace(',', '').replace('m', ''))\n"
   ]
  },
  {
   "cell_type": "code",
   "execution_count": 7,
   "metadata": {},
   "outputs": [],
   "source": [
    "###contract start date \n",
    "data_train['join_date_ver1'] = data_train['join_date'].apply(lambda x: x if '20' in x else 0)####20 year\n",
    "\n",
    "data_train['join_date_ver2'] = data_train['join_date_ver1'].apply(lambda x: (datetime.datetime.strptime(\"Dec31,2019\", \"%b%d,%Y\").date() - datetime.datetime.strptime(x, \"%b%d,%Y\").date()).days/365 if x!=0  else 0)"
   ]
  },
  {
   "cell_type": "code",
   "execution_count": 8,
   "metadata": {},
   "outputs": [],
   "source": [
    "###contract end date\n",
    "data_train['exp_date_ver1'] = data_train['exp_date'].apply(lambda x: x if '20' in x else 0)"
   ]
  },
  {
   "cell_type": "code",
   "execution_count": 9,
   "metadata": {},
   "outputs": [],
   "source": [
    "def date_change(x):\n",
    "    try:\n",
    "        ndays = (datetime.datetime.strptime(x, \"%d.%m.%Y\").date() - datetime.datetime.strptime(\"Dec31,2019\", \"%b%d,%Y\").date()).days\n",
    "    except:\n",
    "        ndays = 0\n",
    "    return ndays/365\n",
    "        "
   ]
  },
  {
   "cell_type": "code",
   "execution_count": 10,
   "metadata": {},
   "outputs": [],
   "source": [
    "data_train['exp_date_ver2'] = data_train['exp_date_ver1'].apply(date_change)"
   ]
  },
  {
   "cell_type": "code",
   "execution_count": null,
   "metadata": {},
   "outputs": [],
   "source": []
  },
  {
   "cell_type": "code",
   "execution_count": 11,
   "metadata": {},
   "outputs": [],
   "source": [
    "###data joined twitter feature\n",
    "data_train['date_joined_twitter_ver1'] = data_train['date_joined'].apply(lambda x: str(x).replace('.', '').replace('-', '').replace('AM', '').replace('PM', '').replace(' ', ''))"
   ]
  },
  {
   "cell_type": "code",
   "execution_count": 12,
   "metadata": {
    "scrolled": true
   },
   "outputs": [],
   "source": [
    "def date_change_twitter(x):\n",
    "    try:\n",
    "        ndays = (datetime.datetime.strptime(\"Dec31,2019\", \"%b%d,%Y\").date() - datetime.datetime.strptime(x, \"%I:%M%d%b%Y\").date()).days\n",
    "    except:\n",
    "        ndays = 0\n",
    "    return ndays/365\n",
    "data_train['date_joined_twitter_ver2'] = data_train['date_joined_twitter_ver1'].apply(date_change_twitter)"
   ]
  },
  {
   "cell_type": "code",
   "execution_count": 13,
   "metadata": {},
   "outputs": [],
   "source": [
    "###market value, make units consistent\n",
    "def value_trans(value):\n",
    "    try:\n",
    "        if 'm' in value:\n",
    "            a1 = value.replace('$','').replace('m', '') \n",
    "        elif 'k' in value:\n",
    "            a1 = float(value.replace('$','').replace('k', ''))/1000\n",
    "    except:\n",
    "        a1 = 0\n",
    "    return float(a1)\n",
    "\n",
    "data_train['market_value_ver2'] = data_train['market_value'].apply(value_trans)"
   ]
  },
  {
   "cell_type": "code",
   "execution_count": 14,
   "metadata": {},
   "outputs": [],
   "source": [
    "###NUmber of Tropy\n",
    "\n",
    "data_train['trophy_ver2'] = data_train['trophy'].apply(lambda x: 0 if np.isnan(float(x)) else x)"
   ]
  },
  {
   "cell_type": "code",
   "execution_count": 15,
   "metadata": {},
   "outputs": [],
   "source": [
    "###identify the continent for each player\n",
    "\n",
    "import pycountry\n",
    "import pycountry_convert as pc\n",
    "def country_to_continent(country_name):\n",
    "    try:\n",
    "        if country_name == 'DR Congo':\n",
    "            country_continent_name = 'Africa'\n",
    "        else:\n",
    "            fuzzy = pycountry.countries.search_fuzzy(country_name)\n",
    "            country_alpha2 = pc.country_name_to_country_alpha2(fuzzy[0].name)\n",
    "            country_continent_code = pc.country_alpha2_to_continent_code(country_alpha2)\n",
    "            country_continent_name = pc.convert_continent_code_to_continent_name(country_continent_code)\n",
    "    except:\n",
    "        country_continent_name = 'Europe'\n",
    "    return country_continent_name"
   ]
  },
  {
   "cell_type": "code",
   "execution_count": 16,
   "metadata": {},
   "outputs": [],
   "source": [
    "data_train['nationality_ver2'] = data_train['nationality'].apply(country_to_continent)\n"
   ]
  },
  {
   "cell_type": "code",
   "execution_count": 17,
   "metadata": {},
   "outputs": [],
   "source": [
    "###player agent\n",
    "\n",
    "data_train['Player_agent_ver2'] = data_train['Player_agent'].apply(lambda x : 0 if (x =='Relatives')|(x =='noagent ')|(x =='notclarified') else 1)\n"
   ]
  },
  {
   "cell_type": "code",
   "execution_count": null,
   "metadata": {},
   "outputs": [],
   "source": []
  },
  {
   "cell_type": "code",
   "execution_count": 18,
   "metadata": {},
   "outputs": [],
   "source": [
    "###sent score\n",
    "data_train['sent_score'] = data_train['sent_mean']*data_train['sent_length']"
   ]
  },
  {
   "cell_type": "code",
   "execution_count": 19,
   "metadata": {
    "scrolled": true
   },
   "outputs": [],
   "source": [
    "###impute missing values\n",
    "from sklearn.experimental import enable_iterative_imputer\n",
    "from sklearn.impute import IterativeImputer\n",
    " \n",
    "imputer = IterativeImputer(max_iter=10, random_state=0)\n",
    " \n",
    "\n",
    "duty_data = data_train[['height_ver2', 'join_date_ver2', 'exp_date_ver2', 'sent_score', 'sent_max', 'sent_min', 'best', 'goal', 'good', 'great', 'love']] \n",
    "\n",
    "imputed_data= imputer.fit_transform(duty_data)\n",
    " \n",
    "imp =imputer.fit_transform(duty_data)"
   ]
  },
  {
   "cell_type": "code",
   "execution_count": 20,
   "metadata": {},
   "outputs": [],
   "source": [
    "imp_data = pd.DataFrame(imp, columns=['height_ver2', 'join_date_ver2', 'exp_date_ver2', 'sent_score', 'sent_max', 'sent_min', 'best', 'goal', 'good', 'great', 'love'])"
   ]
  },
  {
   "cell_type": "code",
   "execution_count": 21,
   "metadata": {},
   "outputs": [],
   "source": [
    "data_train['goals_ver2'] = data_train['goals'].apply(lambda x : x if x!='-' else 0)\n",
    "data_train['Assists_ver2'] = data_train['Assists'].apply(lambda x : x if x!='-' else 0)\n",
    "data_train['min_per_goal_ver2'] = data_train['min_per_goal'].apply(lambda x : x if x!='-' else 0)\n",
    "data_train['injury_ver2'] = data_train['injury'].apply(lambda x : 0 if x=='0' else 1)"
   ]
  },
  {
   "cell_type": "code",
   "execution_count": null,
   "metadata": {},
   "outputs": [],
   "source": []
  },
  {
   "cell_type": "code",
   "execution_count": 22,
   "metadata": {},
   "outputs": [],
   "source": [
    "###reduce category of position\n",
    "\n",
    "def position(info):\n",
    "    if 'Forward' in info:\n",
    "        info = 'Forward'\n",
    "    elif 'Midfielder' in info:\n",
    "        info = 'Midfielder'\n",
    "    elif 'Defender' in info:\n",
    "        info = 'Defender'\n",
    "    elif 'Goalkeeper' in info:\n",
    "        info = 'Goalkeeper'\n",
    "    return info\n",
    "data_train['position_ver2'] = data_train['Position'].apply(position )"
   ]
  },
  {
   "cell_type": "code",
   "execution_count": 23,
   "metadata": {},
   "outputs": [],
   "source": [
    "###twitter data\n",
    "data_train['appearance_ver2'] = data_train['appearance'].apply(lambda x: float(0) if (x == '-')|(x == 'NaN') else float(x))\n",
    "data_train['minutes_ver2'] = data_train['minutes'].apply(lambda x: float(0) if (x == '-')|(x == 'NaN') else float(x))\n",
    "data_train['num_tweets_ver2'] = data_train['num_tweets'].apply(lambda x: float(0) if (x == '-')|(x == 'NaN') else float(x))\n",
    "data_train['following_ver2'] = data_train['following'].apply(lambda x: float(0) if (x == '-')|(x == 'NaN') else float(x))\n",
    "data_train['followers_ver2'] = data_train['followers'].apply(lambda x: float(0) if (x == '-')|(x == 'NaN') else float(x))\n",
    "data_train['likes_ver2'] = data_train['likes'].apply(lambda x: float(0) if (x == '-')|(x == 'NaN') else float(x))\n",
    "data_train['date_joined_twitter_ver3'] = data_train['date_joined_twitter_ver2'].apply(lambda x: float(0) if (x == '-')|(x == 'NaN') else float(x))"
   ]
  },
  {
   "cell_type": "code",
   "execution_count": 24,
   "metadata": {},
   "outputs": [],
   "source": [
    "###left or right foot\n",
    "data_train['Foot_ver2'] = data_train['Foot'].apply(lambda x : x if (x == 'left')|(x == 'right') else 'both')"
   ]
  },
  {
   "cell_type": "code",
   "execution_count": 25,
   "metadata": {},
   "outputs": [],
   "source": [
    "###adidas or nike\n",
    "data_train['outfitter_ver2'] = data_train['outfitter'].apply(lambda x : x if (x == 'Nike')|(x == 'adidas') else 'other')"
   ]
  },
  {
   "cell_type": "code",
   "execution_count": 26,
   "metadata": {},
   "outputs": [],
   "source": [
    "dummies_foot = pd.get_dummies(data_train['Foot_ver2'], prefix= 'foot')\n",
    "dummies_position = pd.get_dummies(data_train['position_ver2'], prefix= 'position')\n",
    "dummies_outfitter = pd.get_dummies(data_train['outfitter_ver2'], prefix= 'outfitter')\n",
    "dummies_nationality = pd.get_dummies(data_train['nationality_ver2'], prefix='nationality_ver2')"
   ]
  },
  {
   "cell_type": "code",
   "execution_count": 27,
   "metadata": {},
   "outputs": [],
   "source": [
    "# data_train.sent_mean.loc[data_train.sent_mean.isnull()] = 0\n",
    "# data_train.sent_max.loc[data_train.sent_max.isnull()] = 0\n",
    "# data_train.sent_min.loc[data_train.sent_min.isnull()] = 0\n",
    "# data_train.sent_length.loc[data_train.sent_length.isnull()] = 0\n",
    "# data_train.best.loc[data_train.best.isnull()] = 0\n",
    "# data_train.good.loc[data_train.good.isnull()] = 0\n",
    "# data_train.great.loc[data_train.great.isnull()] = 0\n",
    "# data_train.love.loc[data_train.love.isnull()] = 0"
   ]
  },
  {
   "cell_type": "code",
   "execution_count": null,
   "metadata": {},
   "outputs": [],
   "source": []
  },
  {
   "cell_type": "code",
   "execution_count": null,
   "metadata": {},
   "outputs": [],
   "source": []
  },
  {
   "cell_type": "code",
   "execution_count": 28,
   "metadata": {},
   "outputs": [],
   "source": [
    "###save processed data\n",
    "data_train.to_csv('data_train.csv')"
   ]
  },
  {
   "cell_type": "code",
   "execution_count": 29,
   "metadata": {
    "scrolled": true
   },
   "outputs": [
    {
     "data": {
      "text/plain": [
       "Index(['name', 'trophy', 'nationality', 'height', 'injury', 'startelfquote',\n",
       "       'minutenquote', 'twitter', 'age', 'Position', 'Foot', 'Player_agent',\n",
       "       'join_date', 'exp_date', 'exten_date', 'outfitter', 'club',\n",
       "       'appearance', 'minutes', 'goals', 'Assists', 'min_per_goal',\n",
       "       'market_value', 'sent_mean', 'sent_max', 'sent_min', 'sent_length',\n",
       "       'best', 'goal', 'good', 'great', 'love', 'user', 'date_joined',\n",
       "       'num_tweets', 'following', 'followers', 'likes', 'height_ver2',\n",
       "       'join_date_ver1', 'join_date_ver2', 'exp_date_ver1', 'exp_date_ver2',\n",
       "       'date_joined_twitter_ver1', 'date_joined_twitter_ver2',\n",
       "       'market_value_ver2', 'trophy_ver2', 'nationality_ver2',\n",
       "       'Player_agent_ver2', 'sent_score', 'goals_ver2', 'Assists_ver2',\n",
       "       'min_per_goal_ver2', 'injury_ver2', 'position_ver2', 'appearance_ver2',\n",
       "       'minutes_ver2', 'num_tweets_ver2', 'following_ver2', 'followers_ver2',\n",
       "       'likes_ver2', 'date_joined_twitter_ver3', 'Foot_ver2',\n",
       "       'outfitter_ver2'],\n",
       "      dtype='object')"
      ]
     },
     "execution_count": 29,
     "metadata": {},
     "output_type": "execute_result"
    }
   ],
   "source": [
    "data_train.columns"
   ]
  },
  {
   "cell_type": "code",
   "execution_count": 30,
   "metadata": {},
   "outputs": [],
   "source": [
    "###pick data that dont need scale or dummies\n",
    "let1 = data_train[['age', 'injury_ver2','startelfquote', 'minutenquote','Player_agent_ver2', 'appearance_ver2', 'minutes_ver2',\\\n",
    "       'num_tweets_ver2', 'following_ver2', 'followers_ver2', 'likes_ver2',\\\n",
    "       'date_joined_twitter_ver3', 'goals_ver2', 'Assists_ver2', 'min_per_goal_ver2', 'market_value_ver2' ]]"
   ]
  },
  {
   "cell_type": "code",
   "execution_count": 31,
   "metadata": {
    "scrolled": true
   },
   "outputs": [],
   "source": [
    "final = pd.concat([imp_data, dummies_foot,dummies_position,dummies_outfitter,dummies_nationality, let1],axis=1)"
   ]
  },
  {
   "cell_type": "code",
   "execution_count": 32,
   "metadata": {},
   "outputs": [
    {
     "data": {
      "text/plain": [
       "(1435, 43)"
      ]
     },
     "execution_count": 32,
     "metadata": {},
     "output_type": "execute_result"
    }
   ],
   "source": [
    "final.shape"
   ]
  },
  {
   "cell_type": "code",
   "execution_count": 33,
   "metadata": {},
   "outputs": [],
   "source": [
    "final.to_csv('final0204_orig.csv')"
   ]
  },
  {
   "cell_type": "code",
   "execution_count": 34,
   "metadata": {},
   "outputs": [],
   "source": [
    "webapp_name = pd.DataFrame(data_train['name'], columns=['name'])"
   ]
  },
  {
   "cell_type": "code",
   "execution_count": 35,
   "metadata": {},
   "outputs": [],
   "source": [
    "webapp_name.to_csv('webapp_name.csv')"
   ]
  },
  {
   "cell_type": "code",
   "execution_count": 36,
   "metadata": {},
   "outputs": [],
   "source": [
    "webapp_name['first'] = webapp_name['name'].apply(lambda x : nltk.word_tokenize(x)[0])\n",
    "webapp_name['last'] = webapp_name['name'].apply(lambda x : nltk.word_tokenize(x)[-1])"
   ]
  },
  {
   "cell_type": "code",
   "execution_count": 178,
   "metadata": {},
   "outputs": [
    {
     "data": {
      "text/html": [
       "<div>\n",
       "<style scoped>\n",
       "    .dataframe tbody tr th:only-of-type {\n",
       "        vertical-align: middle;\n",
       "    }\n",
       "\n",
       "    .dataframe tbody tr th {\n",
       "        vertical-align: top;\n",
       "    }\n",
       "\n",
       "    .dataframe thead th {\n",
       "        text-align: right;\n",
       "    }\n",
       "</style>\n",
       "<table border=\"1\" class=\"dataframe\">\n",
       "  <thead>\n",
       "    <tr style=\"text-align: right;\">\n",
       "      <th></th>\n",
       "      <th>name</th>\n",
       "      <th>sent_mean</th>\n",
       "      <th>best</th>\n",
       "      <th>goal</th>\n",
       "      <th>good</th>\n",
       "      <th>great</th>\n",
       "      <th>love</th>\n",
       "    </tr>\n",
       "  </thead>\n",
       "  <tbody>\n",
       "    <tr>\n",
       "      <th>4</th>\n",
       "      <td>Virgil van Dijk</td>\n",
       "      <td>0.207992</td>\n",
       "      <td>0.293952</td>\n",
       "      <td>0.093977</td>\n",
       "      <td>0.235847</td>\n",
       "      <td>0.147115</td>\n",
       "      <td>0.077014</td>\n",
       "    </tr>\n",
       "    <tr>\n",
       "      <th>5</th>\n",
       "      <td>Andy Lonergan</td>\n",
       "      <td>0.263456</td>\n",
       "      <td>0.227510</td>\n",
       "      <td>0.193962</td>\n",
       "      <td>0.278154</td>\n",
       "      <td>0.151816</td>\n",
       "      <td>0.317902</td>\n",
       "    </tr>\n",
       "    <tr>\n",
       "      <th>6</th>\n",
       "      <td>Leon Balogun</td>\n",
       "      <td>0.249531</td>\n",
       "      <td>0.170313</td>\n",
       "      <td>0.000000</td>\n",
       "      <td>0.117126</td>\n",
       "      <td>0.085237</td>\n",
       "      <td>0.267727</td>\n",
       "    </tr>\n",
       "    <tr>\n",
       "      <th>7</th>\n",
       "      <td>Andy Carroll</td>\n",
       "      <td>0.176070</td>\n",
       "      <td>0.166450</td>\n",
       "      <td>0.454099</td>\n",
       "      <td>0.152627</td>\n",
       "      <td>0.092559</td>\n",
       "      <td>0.155055</td>\n",
       "    </tr>\n",
       "    <tr>\n",
       "      <th>8</th>\n",
       "      <td>Scott McTominay</td>\n",
       "      <td>0.157368</td>\n",
       "      <td>0.195550</td>\n",
       "      <td>0.070609</td>\n",
       "      <td>0.073834</td>\n",
       "      <td>0.080597</td>\n",
       "      <td>0.096439</td>\n",
       "    </tr>\n",
       "    <tr>\n",
       "      <th>9</th>\n",
       "      <td>Martin Kelly</td>\n",
       "      <td>0.351732</td>\n",
       "      <td>0.000000</td>\n",
       "      <td>0.000000</td>\n",
       "      <td>0.167265</td>\n",
       "      <td>0.547757</td>\n",
       "      <td>0.191166</td>\n",
       "    </tr>\n",
       "    <tr>\n",
       "      <th>10</th>\n",
       "      <td>Nicolás Otamendi</td>\n",
       "      <td>0.175168</td>\n",
       "      <td>0.158265</td>\n",
       "      <td>0.026986</td>\n",
       "      <td>0.241869</td>\n",
       "      <td>0.264023</td>\n",
       "      <td>0.082929</td>\n",
       "    </tr>\n",
       "    <tr>\n",
       "      <th>11</th>\n",
       "      <td>Mason Mount</td>\n",
       "      <td>0.165926</td>\n",
       "      <td>0.042290</td>\n",
       "      <td>0.144216</td>\n",
       "      <td>0.168037</td>\n",
       "      <td>0.098770</td>\n",
       "      <td>0.118184</td>\n",
       "    </tr>\n",
       "    <tr>\n",
       "      <th>12</th>\n",
       "      <td>Mesut Özil</td>\n",
       "      <td>0.188063</td>\n",
       "      <td>0.176339</td>\n",
       "      <td>0.049201</td>\n",
       "      <td>0.220493</td>\n",
       "      <td>0.160460</td>\n",
       "      <td>0.184800</td>\n",
       "    </tr>\n",
       "    <tr>\n",
       "      <th>13</th>\n",
       "      <td>Marcus Rashford</td>\n",
       "      <td>0.200466</td>\n",
       "      <td>0.159108</td>\n",
       "      <td>0.073989</td>\n",
       "      <td>0.238736</td>\n",
       "      <td>0.159258</td>\n",
       "      <td>0.166742</td>\n",
       "    </tr>\n",
       "    <tr>\n",
       "      <th>14</th>\n",
       "      <td>Scott Dann</td>\n",
       "      <td>0.719450</td>\n",
       "      <td>0.000000</td>\n",
       "      <td>0.000000</td>\n",
       "      <td>0.000000</td>\n",
       "      <td>0.000000</td>\n",
       "      <td>0.500314</td>\n",
       "    </tr>\n",
       "    <tr>\n",
       "      <th>15</th>\n",
       "      <td>Ross Barkley</td>\n",
       "      <td>0.063440</td>\n",
       "      <td>0.000000</td>\n",
       "      <td>0.000000</td>\n",
       "      <td>0.000000</td>\n",
       "      <td>0.000000</td>\n",
       "      <td>0.000000</td>\n",
       "    </tr>\n",
       "    <tr>\n",
       "      <th>16</th>\n",
       "      <td>Arthur Masuaku</td>\n",
       "      <td>0.204688</td>\n",
       "      <td>0.000000</td>\n",
       "      <td>0.093469</td>\n",
       "      <td>0.209438</td>\n",
       "      <td>0.365796</td>\n",
       "      <td>0.143620</td>\n",
       "    </tr>\n",
       "    <tr>\n",
       "      <th>17</th>\n",
       "      <td>Jordan Henderson</td>\n",
       "      <td>0.251273</td>\n",
       "      <td>0.190382</td>\n",
       "      <td>0.090893</td>\n",
       "      <td>0.162933</td>\n",
       "      <td>0.190562</td>\n",
       "      <td>0.279324</td>\n",
       "    </tr>\n",
       "    <tr>\n",
       "      <th>18</th>\n",
       "      <td>Michel Vorm</td>\n",
       "      <td>0.186783</td>\n",
       "      <td>0.135855</td>\n",
       "      <td>0.069493</td>\n",
       "      <td>0.186858</td>\n",
       "      <td>0.203974</td>\n",
       "      <td>0.142373</td>\n",
       "    </tr>\n",
       "    <tr>\n",
       "      <th>19</th>\n",
       "      <td>Benjamin Mendy</td>\n",
       "      <td>0.145083</td>\n",
       "      <td>0.144383</td>\n",
       "      <td>0.203103</td>\n",
       "      <td>0.314432</td>\n",
       "      <td>0.018065</td>\n",
       "      <td>0.094569</td>\n",
       "    </tr>\n",
       "    <tr>\n",
       "      <th>20</th>\n",
       "      <td>Aymeric Laporte</td>\n",
       "      <td>0.137276</td>\n",
       "      <td>0.243661</td>\n",
       "      <td>0.010387</td>\n",
       "      <td>0.176878</td>\n",
       "      <td>0.040648</td>\n",
       "      <td>0.042559</td>\n",
       "    </tr>\n",
       "  </tbody>\n",
       "</table>\n",
       "</div>"
      ],
      "text/plain": [
       "                name  sent_mean      best      goal      good     great  \\\n",
       "4    Virgil van Dijk   0.207992  0.293952  0.093977  0.235847  0.147115   \n",
       "5      Andy Lonergan   0.263456  0.227510  0.193962  0.278154  0.151816   \n",
       "6       Leon Balogun   0.249531  0.170313  0.000000  0.117126  0.085237   \n",
       "7       Andy Carroll   0.176070  0.166450  0.454099  0.152627  0.092559   \n",
       "8    Scott McTominay   0.157368  0.195550  0.070609  0.073834  0.080597   \n",
       "9       Martin Kelly   0.351732  0.000000  0.000000  0.167265  0.547757   \n",
       "10  Nicolás Otamendi   0.175168  0.158265  0.026986  0.241869  0.264023   \n",
       "11       Mason Mount   0.165926  0.042290  0.144216  0.168037  0.098770   \n",
       "12        Mesut Özil   0.188063  0.176339  0.049201  0.220493  0.160460   \n",
       "13   Marcus Rashford   0.200466  0.159108  0.073989  0.238736  0.159258   \n",
       "14        Scott Dann   0.719450  0.000000  0.000000  0.000000  0.000000   \n",
       "15      Ross Barkley   0.063440  0.000000  0.000000  0.000000  0.000000   \n",
       "16    Arthur Masuaku   0.204688  0.000000  0.093469  0.209438  0.365796   \n",
       "17  Jordan Henderson   0.251273  0.190382  0.090893  0.162933  0.190562   \n",
       "18       Michel Vorm   0.186783  0.135855  0.069493  0.186858  0.203974   \n",
       "19    Benjamin Mendy   0.145083  0.144383  0.203103  0.314432  0.018065   \n",
       "20   Aymeric Laporte   0.137276  0.243661  0.010387  0.176878  0.040648   \n",
       "\n",
       "        love  \n",
       "4   0.077014  \n",
       "5   0.317902  \n",
       "6   0.267727  \n",
       "7   0.155055  \n",
       "8   0.096439  \n",
       "9   0.191166  \n",
       "10  0.082929  \n",
       "11  0.118184  \n",
       "12  0.184800  \n",
       "13  0.166742  \n",
       "14  0.500314  \n",
       "15  0.000000  \n",
       "16  0.143620  \n",
       "17  0.279324  \n",
       "18  0.142373  \n",
       "19  0.094569  \n",
       "20  0.042559  "
      ]
     },
     "execution_count": 178,
     "metadata": {},
     "output_type": "execute_result"
    }
   ],
   "source": [
    "data_train[['name','sent_mean','best', 'goal', 'good', 'great', 'love']].loc[4:20]"
   ]
  },
  {
   "cell_type": "code",
   "execution_count": null,
   "metadata": {},
   "outputs": [],
   "source": []
  },
  {
   "cell_type": "markdown",
   "metadata": {},
   "source": [
    "# scale data"
   ]
  },
  {
   "cell_type": "code",
   "execution_count": 2,
   "metadata": {},
   "outputs": [],
   "source": [
    "final = pd.read_csv('final0204_orig.csv')"
   ]
  },
  {
   "cell_type": "code",
   "execution_count": 3,
   "metadata": {},
   "outputs": [],
   "source": [
    "ss = StandardScaler()\n",
    "mm = MinMaxScaler()"
   ]
  },
  {
   "cell_type": "code",
   "execution_count": 4,
   "metadata": {},
   "outputs": [
    {
     "data": {
      "text/plain": [
       "Index(['Unnamed: 0', 'height_ver2', 'join_date_ver2', 'exp_date_ver2',\n",
       "       'sent_score', 'sent_max', 'sent_min', 'best', 'goal', 'good', 'great',\n",
       "       'love', 'foot_both', 'foot_left', 'foot_right', 'position_Defender',\n",
       "       'position_Forward', 'position_Goalkeeper', 'position_Midfielder',\n",
       "       'outfitter_Nike', 'outfitter_adidas', 'outfitter_other',\n",
       "       'nationality_ver2_Africa', 'nationality_ver2_Asia',\n",
       "       'nationality_ver2_Europe', 'nationality_ver2_North America',\n",
       "       'nationality_ver2_Oceania', 'nationality_ver2_South America', 'age',\n",
       "       'injury_ver2', 'startelfquote', 'minutenquote', 'Player_agent_ver2',\n",
       "       'appearance_ver2', 'minutes_ver2', 'num_tweets_ver2', 'following_ver2',\n",
       "       'followers_ver2', 'likes_ver2', 'date_joined_twitter_ver3',\n",
       "       'goals_ver2', 'Assists_ver2', 'min_per_goal_ver2', 'market_value_ver2'],\n",
       "      dtype='object')"
      ]
     },
     "execution_count": 4,
     "metadata": {},
     "output_type": "execute_result"
    }
   ],
   "source": [
    "final.columns"
   ]
  },
  {
   "cell_type": "code",
   "execution_count": 5,
   "metadata": {},
   "outputs": [],
   "source": [
    "part1 = final[['best', 'goal', 'good', 'great',\n",
    "       'love', 'foot_both', 'foot_left', 'foot_right', 'position_Defender',\n",
    "       'position_Forward', 'position_Goalkeeper', 'position_Midfielder',\n",
    "       'outfitter_Nike', 'outfitter_adidas', 'outfitter_other',\n",
    "       'nationality_ver2_Africa', 'nationality_ver2_Asia',\n",
    "       'nationality_ver2_Europe', 'nationality_ver2_North America',\n",
    "       'nationality_ver2_Oceania', 'nationality_ver2_South America']]"
   ]
  },
  {
   "cell_type": "code",
   "execution_count": 6,
   "metadata": {},
   "outputs": [],
   "source": [
    "part2 = final[['height_ver2','injury_ver2', 'join_date_ver2', 'exp_date_ver2', 'sent_score', 'sent_max', 'sent_min', 'age',\n",
    "       'startelfquote', 'minutenquote', 'Player_agent_ver2', 'appearance_ver2',\n",
    "       'minutes_ver2', 'num_tweets_ver2', 'following_ver2', 'followers_ver2',\n",
    "       'likes_ver2', 'date_joined_twitter_ver3', 'goals_ver2', 'Assists_ver2',\n",
    "       'min_per_goal_ver2', 'market_value_ver2']]"
   ]
  },
  {
   "cell_type": "code",
   "execution_count": 7,
   "metadata": {},
   "outputs": [],
   "source": [
    "part2_scaled = ss.fit_transform(part2)"
   ]
  },
  {
   "cell_type": "code",
   "execution_count": 8,
   "metadata": {},
   "outputs": [],
   "source": [
    "final_data = np.concatenate((part1.to_numpy(), part2.astype('float', copy=False)), axis=1)"
   ]
  },
  {
   "cell_type": "code",
   "execution_count": 16,
   "metadata": {},
   "outputs": [],
   "source": []
  },
  {
   "cell_type": "code",
   "execution_count": 19,
   "metadata": {},
   "outputs": [],
   "source": [
    "pl = final[['sent_score', 'sent_max', 'sent_min', 'best', 'goal', 'good', 'great',\n",
    "       'love', 'foot_both', 'foot_left', 'foot_right', 'position_Defender',\n",
    "       'position_Forward', 'position_Goalkeeper', 'position_Midfielder',\n",
    "       'outfitter_Nike', 'outfitter_adidas', 'outfitter_other', 'age',\n",
    "       'injury_ver2', 'startelfquote', 'minutenquote', 'Player_agent_ver2',\n",
    "       'appearance_ver2', 'minutes_ver2', 'num_tweets_ver2', 'following_ver2',\n",
    "       'followers_ver2', 'likes_ver2', 'date_joined_twitter_ver3',\n",
    "       'goals_ver2', 'Assists_ver2', 'min_per_goal_ver2', 'market_value_ver2']]"
   ]
  },
  {
   "cell_type": "code",
   "execution_count": 20,
   "metadata": {},
   "outputs": [],
   "source": [
    "corr = pl.corr()"
   ]
  },
  {
   "cell_type": "code",
   "execution_count": 26,
   "metadata": {},
   "outputs": [
    {
     "data": {
      "image/png": "[encoded data removed]",
      "text/plain": [
       "<Figure size 792x648 with 2 Axes>"
      ]
     },
     "metadata": {
      "needs_background": "light"
     },
     "output_type": "display_data"
    }
   ],
   "source": [
    "f, ax = plt.subplots(figsize=(11, 9))\n",
    "cmap = sns.diverging_palette(220, 10, as_cmap=True)\n",
    "sns.heatmap(corr,cmap=cmap, vmin=0, vmax=1, square=True, linewidths=.5, cbar_kws={\"shrink\": .5})\n",
    "plt.savefig('corr.png', bbox_inches = 'tight')"
   ]
  },
  {
   "cell_type": "code",
   "execution_count": null,
   "metadata": {},
   "outputs": [],
   "source": []
  },
  {
   "cell_type": "markdown",
   "metadata": {},
   "source": [
    "# modeling"
   ]
  },
  {
   "cell_type": "code",
   "execution_count": null,
   "metadata": {},
   "outputs": [],
   "source": []
  },
  {
   "cell_type": "code",
   "execution_count": 146,
   "metadata": {},
   "outputs": [],
   "source": [
    "###train test split\n",
    "from sklearn.linear_model import LinearRegression\n",
    "from sklearn.model_selection import train_test_split \n",
    "\n",
    "\n",
    "train_np = final_data\n",
    "\n",
    "y = train_np[:,-1]\n",
    "\n",
    "\n",
    "X = train_np[:, :-1]\n",
    "X_train, X_test, y_train, y_test = train_test_split(X, y, test_size=0.2, random_state=0)\n"
   ]
  },
  {
   "cell_type": "code",
   "execution_count": null,
   "metadata": {},
   "outputs": [],
   "source": []
  },
  {
   "cell_type": "code",
   "execution_count": 149,
   "metadata": {},
   "outputs": [
    {
     "data": {
      "text/plain": [
       "RandomForestRegressor(bootstrap=True, ccp_alpha=0.0, criterion='mse',\n",
       "                      max_depth=5, max_features='auto', max_leaf_nodes=None,\n",
       "                      max_samples=None, min_impurity_decrease=0.0,\n",
       "                      min_impurity_split=None, min_samples_leaf=1,\n",
       "                      min_samples_split=2, min_weight_fraction_leaf=0.0,\n",
       "                      n_estimators=100, n_jobs=None, oob_score=False,\n",
       "                      random_state=0, verbose=0, warm_start=False)"
      ]
     },
     "execution_count": 149,
     "metadata": {},
     "output_type": "execute_result"
    }
   ],
   "source": [
    "from sklearn.ensemble import RandomForestRegressor\n",
    "from sklearn.datasets import make_regression\n",
    "regr = RandomForestRegressor(max_depth=5, random_state=0)\n",
    "regr.fit(X_train, y_train)"
   ]
  },
  {
   "cell_type": "code",
   "execution_count": null,
   "metadata": {},
   "outputs": [],
   "source": []
  },
  {
   "cell_type": "code",
   "execution_count": null,
   "metadata": {},
   "outputs": [],
   "source": []
  },
  {
   "cell_type": "code",
   "execution_count": 243,
   "metadata": {},
   "outputs": [
    {
     "data": {
      "text/plain": [
       "Index(['nationality_ver2_Oceania', 'followers_ver2',\n",
       "       'nationality_ver2_North America', 'goals_ver2', 'injury_ver2',\n",
       "       'Assists_ver2', 'age', 'join_date_ver2', 'nationality_ver2_Europe',\n",
       "       'appearance_ver2', 'following_ver2', 'nationality_ver2_Africa',\n",
       "       'height_ver2', 'num_tweets_ver2', 'startelfquote', 'likes_ver2',\n",
       "       'position_Defender', 'date_joined_twitter_ver3',\n",
       "       'nationality_ver2_South America', 'sent_score', 'min_per_goal_ver2',\n",
       "       'minutenquote', 'minutes_ver2', 'sent_max', 'exp_date_ver2',\n",
       "       'foot_left', 'Player_agent_ver2', 'sent_min', 'nationality_ver2_Asia',\n",
       "       'foot_both', 'goal', 'outfitter_other', 'position_Forward',\n",
       "       'foot_right', 'great', 'position_Midfielder', 'good', 'best',\n",
       "       'outfitter_Nike', 'love', 'outfitter_adidas', 'position_Goalkeeper'],\n",
       "      dtype='object')"
      ]
     },
     "execution_count": 243,
     "metadata": {},
     "output_type": "execute_result"
    }
   ],
   "source": [
    "final.columns[indices]"
   ]
  },
  {
   "cell_type": "code",
   "execution_count": null,
   "metadata": {},
   "outputs": [],
   "source": []
  },
  {
   "cell_type": "code",
   "execution_count": 244,
   "metadata": {},
   "outputs": [],
   "source": [
    "##############regression results"
   ]
  },
  {
   "cell_type": "code",
   "execution_count": 155,
   "metadata": {},
   "outputs": [],
   "source": [
    "rf_y_pred = regr.predict(X_test)\n"
   ]
  },
  {
   "cell_type": "code",
   "execution_count": null,
   "metadata": {},
   "outputs": [],
   "source": []
  },
  {
   "cell_type": "code",
   "execution_count": 157,
   "metadata": {},
   "outputs": [
    {
     "data": {
      "image/png": "[encoded data removed]",
      "text/plain": [
       "<Figure size 720x540 with 1 Axes>"
      ]
     },
     "metadata": {
      "needs_background": "light"
     },
     "output_type": "display_data"
    }
   ],
   "source": [
    "plt.figure(figsize=(10,7.5))\n",
    "plt.plot(np.sort(y_test),  color='darkblue',linewidth=3, label=\"Actual\")\n",
    "plt.plot(np.sort(rf_y_pred), color='red', linewidth=3,label=\"Predicted\")\n",
    "plt.xlabel('Player ID',fontsize = 20)\n",
    "plt.xticks(fontsize = 20)\n",
    "plt.yticks(fontsize = 20)\n",
    "plt.ylabel('Value /m',fontsize = 20)\n",
    "plt.legend(fontsize = 20)\n",
    "plt.title('Random Forest Regression',fontsize = 20)\n",
    "plt.savefig('randomforest_results.png',transparent=True, bbox_inches = 'tight')\n",
    "plt.show()\n"
   ]
  },
  {
   "cell_type": "code",
   "execution_count": null,
   "metadata": {},
   "outputs": [],
   "source": []
  },
  {
   "cell_type": "code",
   "execution_count": 164,
   "metadata": {},
   "outputs": [],
   "source": [
    "from sklearn.metrics import r2_score\n",
    "rf_r2 = r2_score(y_test, rf_y_pred)\n"
   ]
  },
  {
   "cell_type": "code",
   "execution_count": null,
   "metadata": {},
   "outputs": [],
   "source": []
  },
  {
   "cell_type": "code",
   "execution_count": 167,
   "metadata": {},
   "outputs": [
    {
     "data": {
      "image/png": "[encoded data removed]",
      "text/plain": [
       "<Figure size 720x540 with 1 Axes>"
      ]
     },
     "metadata": {
      "needs_background": "light"
     },
     "output_type": "display_data"
    }
   ],
   "source": [
    "plt.figure(figsize=(10,7.5))\n",
    "plt.plot([0,100], [0,100], color = 'black')\n",
    "plt.scatter(rf_y_pred, y_test, color='red')\n",
    "plt.xlabel('Predicted value /m',fontsize = 20)\n",
    "plt.ylabel('Actual value /m',fontsize = 20)\n",
    "plt.xticks(fontsize = 20)\n",
    "plt.yticks(fontsize = 20)\n",
    "\n",
    "plt.text(0,100, r'$R^2 = {}$'.format(\"%.2f\" % rf_r2), ha='left', rotation=0, wrap=True, fontsize = 20)\n",
    "\n",
    "\n",
    "plt.savefig('rf.png',transparent=True, bbox_inches = 'tight')\n",
    "plt.show()"
   ]
  },
  {
   "cell_type": "code",
   "execution_count": null,
   "metadata": {},
   "outputs": [],
   "source": []
  }
 ],
 "metadata": {
  "kernelspec": {
   "display_name": "Python 3",
   "language": "python",
   "name": "python3"
  },
  "language_info": {
   "codemirror_mode": {
    "name": "ipython",
    "version": 3
   },
   "file_extension": ".py",
   "mimetype": "text/x-python",
   "name": "python",
   "nbconvert_exporter": "python",
   "pygments_lexer": "ipython3",
   "version": "3.7.6"
  }
 },
 "nbformat": 4,
 "nbformat_minor": 2
}
